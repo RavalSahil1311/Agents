{
 "cells": [
  {
   "cell_type": "code",
   "execution_count": 2,
   "metadata": {},
   "outputs": [],
   "source": [
    "from __future__ import annotations\n",
    "from pydantic import BaseModel, Field\n",
    "\n",
    "\n",
    "from langchain.agents import (\n",
    "    AgentExecutor,\n",
    "    create_openai_tools_agent,\n",
    ")\n",
    "\n",
    "from langgraph.checkpoint.memory import MemorySaver\n",
    "\n",
    "from langchain_openai import ChatOpenAI\n",
    "from langchain_core.tools import tool\n",
    "from langchain_core.messages import HumanMessage\n",
    "from langchain_core.output_parsers import JsonOutputParser\n",
    "from langchain_core.prompts import (\n",
    "    ChatPromptTemplate,\n",
    "    MessagesPlaceholder,\n",
    ")\n",
    "\n",
    "from GoogleCalender import CreateGoogleCalendarEvent\n",
    "from langchain_community.tools.gmail.utils import (\n",
    "    build_resource_service,\n",
    "    get_gmail_credentials,\n",
    ")\n",
    "\n",
    "memory = MemorySaver()"
   ]
  },
  {
   "cell_type": "code",
   "execution_count": 3,
   "metadata": {},
   "outputs": [],
   "source": [
    "class MeetingDetils(BaseModel):\n",
    "    start_data_time: str\n",
    "    end_date_time: str\n",
    "    agenda: str\n",
    "    user_email: str"
   ]
  },
  {
   "cell_type": "code",
   "execution_count": 4,
   "metadata": {},
   "outputs": [],
   "source": [
    "class GetEventsSchema(BaseModel):\n",
    "    start_datetime: str = Field(\n",
    "        description=(\n",
    "            \"The start datetime for the event in the following format: \"\n",
    "            'YYYY-MM-DDTHH:MM:SS, where \"T\" separates the date and time.'\n",
    "        )\n",
    "    )\n",
    "    end_datetime: str = Field(\n",
    "        description=(\n",
    "            \"The end datetime for the event in the following format: \"\n",
    "            'YYYY-MM-DDTHH:MM:SS, where \"T\" separates the date and time.'\n",
    "        )\n",
    "    )\n",
    "    agenda: str\n",
    "    user_email: str\n",
    "\n",
    "    timezone: str = Field(\n",
    "        default=\"Asia/Kolkata\",\n",
    "        description=\"The timezone in TZ Database Name format, e.g. 'America/New_York'\",\n",
    "    )"
   ]
  },
  {
   "cell_type": "code",
   "execution_count": 5,
   "metadata": {},
   "outputs": [],
   "source": [
    "@tool\n",
    "def identity(query):\n",
    "    \"\"\"This is the identity function return whatever user pass in query.\"\"\"\n",
    "    return query"
   ]
  },
  {
   "cell_type": "code",
   "execution_count": 6,
   "metadata": {},
   "outputs": [],
   "source": [
    "credentials = get_gmail_credentials(\n",
    "    token_file=\"../token.json\",\n",
    "    scopes=[\"https://www.googleapis.com/auth/calendar\"],\n",
    "    client_secrets_file=\"credentials.json\",\n",
    ")\n",
    "\n",
    "calendar_service = build_resource_service(\n",
    "    credentials=credentials, service_name=\"calendar\", service_version=\"v3\"\n",
    ")\n",
    "\n",
    "createeventtool = CreateGoogleCalendarEvent.from_api_resource(calendar_service)"
   ]
  },
  {
   "cell_type": "code",
   "execution_count": 11,
   "metadata": {},
   "outputs": [],
   "source": [
    "llm = ChatOpenAI()"
   ]
  },
  {
   "cell_type": "code",
   "execution_count": 7,
   "metadata": {},
   "outputs": [],
   "source": [
    "def create_agent(llm, tools: list, system_prompt):\n",
    "\n",
    "    agent = create_openai_tools_agent(llm, tools, system_prompt)\n",
    "    executor = AgentExecutor(agent=agent, tools=tools)\n",
    "\n",
    "    return executor"
   ]
  },
  {
   "cell_type": "code",
   "execution_count": 14,
   "metadata": {},
   "outputs": [],
   "source": [
    "demo_prompt = \"\"\"You are responsible for managing user queries related to demo requests. Your primary role is to gather all necessary details from the user, and then convert that information into the required format as outlined in {format_instructions}. Do not make any assumptions; simply collect the information provided by the user.\n",
    "\n",
    "Steps:\n",
    "Take the details from user. and you have to scadule a meeting for it in a google calender for that you have the access to following tools:\n",
    "{tools}\n",
    "Express your appreciation for the user's cooperation with date and time of the event. Example: \"Thanks for providing the details! We'll arrange the demo on 25th august at 10:30 am to 11:30 am.\"\n",
    "End of Task\n",
    "\"\"\"\n",
    "\n",
    "demo_parser = JsonOutputParser(pydantic_object=GetEventsSchema)"
   ]
  },
  {
   "cell_type": "code",
   "execution_count": 15,
   "metadata": {},
   "outputs": [],
   "source": [
    "demo_prompt_template = ChatPromptTemplate.from_messages(\n",
    "    [\n",
    "        (\n",
    "            \"system\",\n",
    "            demo_prompt,\n",
    "        ),\n",
    "        MessagesPlaceholder(variable_name=\"messages\"),\n",
    "        MessagesPlaceholder(variable_name=\"agent_scratchpad\"),\n",
    "    ],\n",
    ").partial(\n",
    "    format_instructions=demo_parser.get_format_instructions(), tools=[createeventtool]\n",
    ")"
   ]
  },
  {
   "cell_type": "code",
   "execution_count": 16,
   "metadata": {},
   "outputs": [],
   "source": [
    "demo = create_agent(\n",
    "    llm=llm, tools=[createeventtool], system_prompt=demo_prompt_template\n",
    ")"
   ]
  },
  {
   "cell_type": "code",
   "execution_count": 19,
   "metadata": {},
   "outputs": [
    {
     "data": {
      "text/plain": [
       "{'messages': [HumanMessage(content='i want demo at 10:30 am to 11:30 am 20th september 2024 and agenda is presentation and my mail ID is rohanbanda103@gmail.com')],\n",
       " 'output': \"Thanks for providing the details! We'll arrange the demo on 20th September 2024 at 10:30 am to 11:30 am.\"}"
      ]
     },
     "execution_count": 19,
     "metadata": {},
     "output_type": "execute_result"
    }
   ],
   "source": [
    "demo.invoke(\n",
    "    {\n",
    "        \"messages\": [         \n",
    "            HumanMessage(\n",
    "                content=\"i want demo at 10:30 am to 11:30 am 20th september 2024 and agenda is presentation and my mail ID is rohanbanda103@gmail.com\",\n",
    "            )\n",
    "        ]\n",
    "    }\n",
    ")"
   ]
  }
 ],
 "metadata": {
  "kernelspec": {
   "display_name": "temp",
   "language": "python",
   "name": "python3"
  },
  "language_info": {
   "codemirror_mode": {
    "name": "ipython",
    "version": 3
   },
   "file_extension": ".py",
   "mimetype": "text/x-python",
   "name": "python",
   "nbconvert_exporter": "python",
   "pygments_lexer": "ipython3",
   "version": "3.11.5"
  }
 },
 "nbformat": 4,
 "nbformat_minor": 2
}
