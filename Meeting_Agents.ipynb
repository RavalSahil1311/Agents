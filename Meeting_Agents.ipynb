{
 "cells": [
  {
   "cell_type": "code",
   "execution_count": 1,
   "metadata": {},
   "outputs": [],
   "source": [
    "from __future__ import annotations\n",
    "from pydantic import BaseModel, Field\n",
    "\n",
    "from typing import Any, Dict, List\n",
    "from langchain.agents import (\n",
    "    AgentExecutor,\n",
    "    create_openai_tools_agent,\n",
    ")\n",
    "\n",
    "from langgraph.checkpoint.memory import MemorySaver\n",
    "\n",
    "from langchain_openai import ChatOpenAI\n",
    "from langchain_core.tools import tool\n",
    "from langchain_core.messages import HumanMessage\n",
    "from langchain_core.output_parsers import JsonOutputParser\n",
    "from langchain_core.prompts import (\n",
    "    ChatPromptTemplate,\n",
    "    MessagesPlaceholder,\n",
    ")\n",
    "from langchain_core.memory import BaseMemory\n",
    "\n",
    "from GoogleCalender import CreateGoogleCalendarEvent\n",
    "from langchain_community.tools.gmail.utils import (\n",
    "    build_resource_service,\n",
    "    get_gmail_credentials,\n",
    ")\n"
   ]
  },
  {
   "cell_type": "code",
   "execution_count": 2,
   "metadata": {},
   "outputs": [],
   "source": [
    "class GetEventsSchema(BaseModel):\n",
    "    start_datetime: str = Field(\n",
    "        description=(\n",
    "            \"The start datetime for the event in the following format: \"\n",
    "            'YYYY-MM-DDTHH:MM:SS, where \"T\" separates the date and time.'\n",
    "        )\n",
    "    )\n",
    "    end_datetime: str = Field(\n",
    "        description=(\n",
    "            \"The end datetime for the event in the following format: \"\n",
    "            'YYYY-MM-DDTHH:MM:SS, where \"T\" separates the date and time.'\n",
    "        )\n",
    "    )\n",
    "    agenda: str\n",
    "    user_email: str\n",
    "\n",
    "    timezone: str = Field(\n",
    "        default=\"Asia/Kolkata\",\n",
    "    )"
   ]
  },
  {
   "cell_type": "code",
   "execution_count": 3,
   "metadata": {},
   "outputs": [],
   "source": [
    "@tool\n",
    "def identity(query):\n",
    "    \"\"\"This is the identity function return whatever user pass in query.\"\"\"\n",
    "    return query"
   ]
  },
  {
   "cell_type": "code",
   "execution_count": 4,
   "metadata": {},
   "outputs": [],
   "source": [
    "credentials = get_gmail_credentials(\n",
    "    token_file=\"../token.json\",\n",
    "    scopes=[\"https://www.googleapis.com/auth/calendar\"],\n",
    "    client_secrets_file=\"credentials.json\",\n",
    ")\n",
    "\n",
    "calendar_service = build_resource_service(\n",
    "    credentials=credentials, service_name=\"calendar\", service_version=\"v3\"\n",
    ")\n",
    "\n",
    "createeventtool = CreateGoogleCalendarEvent.from_api_resource(calendar_service)"
   ]
  },
  {
   "cell_type": "code",
   "execution_count": 5,
   "metadata": {},
   "outputs": [],
   "source": [
    "llm = ChatOpenAI()"
   ]
  },
  {
   "cell_type": "code",
   "execution_count": 6,
   "metadata": {},
   "outputs": [],
   "source": [
    "def create_agent(llm, tools: list, system_prompt):\n",
    "\n",
    "    agent = create_openai_tools_agent(llm, tools, system_prompt)\n",
    "    executor = AgentExecutor(agent=agent, tools=tools)\n",
    "\n",
    "    return executor"
   ]
  },
  {
   "cell_type": "code",
   "execution_count": 7,
   "metadata": {},
   "outputs": [],
   "source": [
    "demo_prompt = \"\"\"You are responsible for managing user queries related to demo requests.\n",
    "\n",
    "Your primary role is to:\n",
    "\n",
    "Politely greet the user and explain that you need to collect some basic information before proceeding.\n",
    "Gather all necessary details from the user INCLUDING ANY THAT MAY HAVE BEEN FORGOTTEN like email id,date etc.\n",
    "DO NOT MAKE ANY ASSUMPTION FOR EMAIL ID if not provided you should ask again for it but do not put by your self.\n",
    "Convert the gathered information into the required format as outlined in {format_instructions}.\n",
    "Use the formatted data to create an event in Google Calendar.\n",
    "Confirm that the event has been created and scheduled at the requested time.\n",
    "Provide the event link to the user.\n",
    "\"\"\"\n",
    "\n",
    "demo_parser = JsonOutputParser(pydantic_object=GetEventsSchema)"
   ]
  },
  {
   "cell_type": "code",
   "execution_count": 8,
   "metadata": {},
   "outputs": [],
   "source": [
    "demo_prompt_template = ChatPromptTemplate.from_messages(\n",
    "    [\n",
    "        (\n",
    "            \"system\",\n",
    "            demo_prompt,\n",
    "        ),\n",
    "        MessagesPlaceholder(variable_name=\"messages\"),\n",
    "        MessagesPlaceholder(variable_name=\"agent_scratchpad\"),\n",
    "    ],\n",
    ").partial(\n",
    "    format_instructions=demo_parser.get_format_instructions(),\n",
    "    # tools=[createeventtool]\n",
    ")"
   ]
  },
  {
   "cell_type": "code",
   "execution_count": 9,
   "metadata": {},
   "outputs": [],
   "source": [
    "demo = create_agent(\n",
    "    llm=llm,\n",
    "    tools=[createeventtool, identity],\n",
    "    system_prompt=demo_prompt_template,\n",
    ")"
   ]
  },
  {
   "cell_type": "code",
   "execution_count": 37,
   "metadata": {},
   "outputs": [
    {
     "data": {
      "text/plain": [
       "{'messages': [HumanMessage(content='i want demo at 10:30 am to 11:30 am on 23nd august 2024')],\n",
       " 'output': 'Great! I can help you schedule a demo. To proceed, I need the following details:\\n\\n1. Your email address\\n2. Any specific agenda for the demo\\n\\nPlease provide the above information so we can schedule the demo for you.'}"
      ]
     },
     "execution_count": 37,
     "metadata": {},
     "output_type": "execute_result"
    }
   ],
   "source": [
    "demo.invoke(\n",
    "    {\n",
    "        \"messages\": [\n",
    "            HumanMessage(\n",
    "                content=\"i want demo at 10:30 am to 11:30 am on 23nd august 2024\",\n",
    "            )\n",
    "        ]\n",
    "    }\n",
    ")"
   ]
  },
  {
   "cell_type": "code",
   "execution_count": null,
   "metadata": {},
   "outputs": [],
   "source": []
  },
  {
   "cell_type": "code",
   "execution_count": null,
   "metadata": {},
   "outputs": [],
   "source": []
  }
 ],
 "metadata": {
  "kernelspec": {
   "display_name": "temp",
   "language": "python",
   "name": "python3"
  },
  "language_info": {
   "codemirror_mode": {
    "name": "ipython",
    "version": 3
   },
   "file_extension": ".py",
   "mimetype": "text/x-python",
   "name": "python",
   "nbconvert_exporter": "python",
   "pygments_lexer": "ipython3",
   "version": "3.11.5"
  }
 },
 "nbformat": 4,
 "nbformat_minor": 2
}
