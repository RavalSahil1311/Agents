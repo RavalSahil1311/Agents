{
 "cells": [
  {
   "cell_type": "code",
   "execution_count": 1,
   "metadata": {},
   "outputs": [],
   "source": [
    "import functools\n",
    "import operator\n",
    "from typing import Annotated, List, Dict, Optional, Any, Sequence, Union\n",
    "from langchain_core.tools import tool\n",
    "from typing_extensions import TypedDict\n",
    "\n",
    "from langchain.agents import (\n",
    "    AgentExecutor,\n",
    "    create_openai_tools_agent,\n",
    "\n",
    ")\n",
    "from IPython.display import Image, display\n",
    "from langchain.output_parsers.openai_functions import JsonOutputFunctionsParser\n",
    "from langchain_core.prompts import (\n",
    "    ChatPromptTemplate,\n",
    "    MessagesPlaceholder,\n",
    "    PromptTemplate,\n",
    "    SystemMessagePromptTemplate,\n",
    ")\n",
    "from langgraph.graph import END, START, StateGraph\n",
    "from langchain_core.messages import BaseMessage, HumanMessage\n",
    "from langchain_openai import ChatOpenAI\n",
    "from pydantic import BaseModel, Field\n",
    "from langchain_core.output_parsers import JsonOutputParser"
   ]
  },
  {
   "cell_type": "code",
   "execution_count": 2,
   "metadata": {},
   "outputs": [],
   "source": [
    "class ComparisonVariables(BaseModel):\n",
    "    brand: str = Field(description=\"brand name of the product\", max_length=20)\n",
    "    industry: str = Field(description=\"industry of the product\")\n",
    "    year: int = Field(description=\"Year of the product information\", ge=2000)\n",
    "\n",
    "\n",
    "class ColorTrendVariables(BaseModel):\n",
    "    brand: str = Field(description=\"brand name of the product\", max_length=20)\n",
    "    start_year: int = Field(description=\"Starting year of the product information\")\n",
    "    end_year: int = Field(description=\"Ending year of the product information\")"
   ]
  },
  {
   "cell_type": "code",
   "execution_count": 3,
   "metadata": {},
   "outputs": [],
   "source": [
    "@tool\n",
    "def identity(query):\n",
    "    \"\"\"This is the identity function return whatever user pass in query.\"\"\"\n",
    "    return query"
   ]
  },
  {
   "cell_type": "code",
   "execution_count": 4,
   "metadata": {},
   "outputs": [],
   "source": [
    "llm = ChatOpenAI()"
   ]
  },
  {
   "cell_type": "code",
   "execution_count": 5,
   "metadata": {},
   "outputs": [],
   "source": [
    "def create_agent(llm, tools: list, system_prompt):\n",
    "\n",
    "    agent = create_openai_tools_agent(llm, tools, system_prompt)\n",
    "    executor = AgentExecutor(agent=agent, tools=tools)\n",
    "\n",
    "    return executor"
   ]
  },
  {
   "cell_type": "code",
   "execution_count": 7,
   "metadata": {},
   "outputs": [],
   "source": [
    "prompt_template_comparison = \"\"\"You are responsible for handling queries that involve comparisons between the color family frequency of specific automobile brands and the overall auto industry for specified years. Your goal is to provide accurate comparisons based on the given criteria and follow the instructions precisely.\n",
    "\n",
    "Key Tasks:\n",
    "\n",
    "Comparison Focus:\n",
    "\n",
    "Answer questions involving comparisons between the color family frequency of a specific automobile brand and the overall auto industry.\n",
    "Ensure that the comparison is specific to the year or years mentioned in the query.\n",
    "\n",
    "Data Requirements:\n",
    "\n",
    "Use the provided datasets for both the specific automobile brand and the overall auto industry.\n",
    "Ensure that the data used is relevant to the specified year(s).\n",
    "\n",
    "Example Queries:\n",
    "\n",
    "\"Can I see a comparison of the color family frequency for Audi and the auto industry in 2023?\"\n",
    "\"What does the color family frequency look like for BMW versus the auto industry over the last three years?\"\n",
    "\"How does the color family frequency for Toyota compare to the rest of the auto industry in 2022?\"\n",
    "\n",
    "Output Format:\n",
    "\n",
    "Follow the provided format instructions.\n",
    "Once all features are extracted and formatted according to the instructions, your task is complete.\n",
    "\n",
    "Final Step:\n",
    "Output Format:\n",
    "{format_instructions}\n",
    "Always conclude your response with \"FINISH\" once the features are correctly extracted and formatted.\"\"\"\n",
    "parser = JsonOutputParser(pydantic_object=ComparisonVariables)\n",
    "# print(type(prompt_template_comparison))"
   ]
  },
  {
   "cell_type": "code",
   "execution_count": 8,
   "metadata": {},
   "outputs": [],
   "source": [
    "\n",
    "prompt = ChatPromptTemplate.from_messages(\n",
    "    [\n",
    "        (\n",
    "            \"system\",\n",
    "            prompt_template_comparison,\n",
    "        ),\n",
    "        MessagesPlaceholder(variable_name=\"messages\"),\n",
    "        MessagesPlaceholder(variable_name=\"agent_scratchpad\"),\n",
    "\n",
    "    ],\n",
    ").partial(format_instructions=parser.get_format_instructions())\n",
    "\n"
   ]
  },
  {
   "cell_type": "code",
   "execution_count": 9,
   "metadata": {},
   "outputs": [],
   "source": [
    "\n",
    "comparison = create_agent(\n",
    "    llm=llm, tools=[identity], system_prompt=prompt\n",
    ")\n"
   ]
  },
  {
   "cell_type": "code",
   "execution_count": 10,
   "metadata": {},
   "outputs": [],
   "source": [
    "prompt_color_trend =     \"\"\"\n",
    "You are responsible for extracting specific features from queries that focus on the color trends and usage of automobile brands over various periods. Do not provide answers or make assumptions; simply extract and return the features specified in the query. Once the extraction is complete, your task ends. Here are your key tasks:\n",
    "\n",
    "Feature Extraction Focus:\n",
    "\n",
    "Extract details about the automobile brand and the period specified in the query.\n",
    "Ensure only the information explicitly mentioned in the query is extracted.\n",
    "Features to Extract:\n",
    "\n",
    "Brand: The specific brand mentioned in the query.\n",
    "Period: The specific period mentioned in the query (e.g., \"last five years,\" \"past decade\").\n",
    "Even industry is mentioned in query do not extract it.\n",
    "Example Queries and Extracted Features:\n",
    "\n",
    "\n",
    "Output Format:\n",
    "{format_instructions}\n",
    "Once the features are extracted and formatted, your task is complete return features with FINISH.\n",
    "\n",
    "\"\"\"\n",
    "parser = JsonOutputParser(pydantic_object=ColorTrendVariables)\n",
    "\n",
    "prompt = ChatPromptTemplate.from_messages(\n",
    "    [\n",
    "        (\n",
    "            \"system\",\n",
    "            prompt_color_trend,\n",
    "        ),\n",
    "        MessagesPlaceholder(variable_name=\"messages\"),\n",
    "        MessagesPlaceholder(variable_name=\"agent_scratchpad\"),\n",
    "\n",
    "    ]\n",
    ").partial(format_instructions=parser.get_format_instructions())\n",
    "\n",
    "colortrend = create_agent(llm, [identity], prompt)\n"
   ]
  },
  {
   "cell_type": "code",
   "execution_count": null,
   "metadata": {},
   "outputs": [],
   "source": [
    "print(prompt)"
   ]
  },
  {
   "cell_type": "code",
   "execution_count": 13,
   "metadata": {},
   "outputs": [],
   "source": [
    "def agent_node(state, agent, name):\n",
    "    result = agent.invoke(state)\n",
    "    return {\"messages\": [HumanMessage(content=result[\"output\"], name=name)]}"
   ]
  },
  {
   "cell_type": "code",
   "execution_count": 14,
   "metadata": {},
   "outputs": [],
   "source": [
    "members = [\n",
    "    \"comparison\",\n",
    "    \"colortrend\",\n",
    "]\n",
    "system_prompt = \"\"\"\n",
    "\n",
    "You are tasked with routing user queries to the appropriate agent based on their content. \n",
    "agents : {members}\n",
    "There are two groups of questions: Group 1 focuses on comparing the color family frequency of specific automobile brands with the overall auto industry for specified years. \n",
    "Group 2 focuses on the color trends and usage of specific automobile brands over various periods. \n",
    "Use the following guidelines to determine which agent to choose:\n",
    "\n",
    "Comparision Agent:\n",
    "\n",
    "Choose this agent if the question involves a comparison between a specific automobile brand and the overall auto industry for one or more specified years.\n",
    "Look for keywords like \"compare,\" \"comparison,\" \"year(s),\" \"industry,\" and specific brand names (e.g., Audi, BMW, Toyota).\n",
    "\n",
    "Colortrend Agent:\n",
    "\n",
    "Choose this agent if the question involves analyzing or listing the color families or trends of specific automobile brands over any given period.\n",
    "Look for keywords like \"color trends,\" \"color families,\" \"usage,\" \"period,\" and specific brand names (e.g., Audi, BMW, Toyota).\n",
    "\n",
    "Instructions for Differentiation:\n",
    "\n",
    "Identify whether the query is about a comparison with the auto industry  or a focus on a specific brand's historical color usage .\n",
    "Determine if the query involves specific years for a comparison  or a broader analysis of color trends over time .\n",
    "\n",
    "Once you get FINISH from agents then finish the execution.\n",
    "\n",
    "\"\"\"\n",
    "\n",
    "options = [\"FINISH\"] + members\n",
    "\n",
    "function_def = {\n",
    "    \"name\": \"route\",\n",
    "    \"description\": \"Select the next role.\",\n",
    "    \"parameters\": {\n",
    "        \"title\": \"routeSchema\",\n",
    "        \"type\": \"object\",\n",
    "        \"properties\": {\n",
    "            \"next\": {\n",
    "                \"title\": \"Next\",\n",
    "                \"anyOf\": [\n",
    "                    {\"enum\": options},\n",
    "                ],\n",
    "            }\n",
    "        },\n",
    "        \"required\": [\"next\"],\n",
    "    },\n",
    "}\n",
    "\n",
    "prompt = ChatPromptTemplate.from_messages(\n",
    "    [\n",
    "        (\"system\", system_prompt),\n",
    "        MessagesPlaceholder(variable_name=\"messages\"),\n",
    "        (\n",
    "            \"system\",\n",
    "            \"Given the conversation above , who should act next?\"\n",
    "            \"Or should we FINISH? Select one of : {options}\",\n",
    "        ),\n",
    "    ]\n",
    ").partial(options=str(options), members=\", \".join(members))\n",
    "\n",
    "llm = ChatOpenAI()\n",
    "\n",
    "supervisor_chain = (\n",
    "    prompt\n",
    "    | llm.bind_functions(\n",
    "        functions=[function_def],\n",
    "        function_call=\"route\",\n",
    "    )\n",
    "    | JsonOutputFunctionsParser()\n",
    ")"
   ]
  },
  {
   "cell_type": "code",
   "execution_count": 15,
   "metadata": {},
   "outputs": [],
   "source": [
    "class AgentState(TypedDict):\n",
    "    messages: Annotated[Sequence[BaseMessage], operator.add]\n",
    "\n",
    "    next: str"
   ]
  },
  {
   "cell_type": "code",
   "execution_count": 16,
   "metadata": {},
   "outputs": [],
   "source": [
    "comparison_node = functools.partial(agent_node, agent=comparison, name=\"comparison\")\n",
    "\n",
    "colortrend_node = functools.partial(agent_node, agent=colortrend, name=\"colortrend\")"
   ]
  },
  {
   "cell_type": "code",
   "execution_count": 17,
   "metadata": {},
   "outputs": [],
   "source": [
    "workflow = StateGraph(AgentState)\n",
    "workflow.add_node(\"comparison\", comparison_node)\n",
    "workflow.add_node(\"colortrend\", colortrend_node)\n",
    "\n",
    "workflow.add_node(\"supervisor\", supervisor_chain)\n",
    "\n",
    "for member in members:\n",
    "    workflow.add_edge(member, \"supervisor\")\n",
    "\n",
    "conditional_map = {k: k for k in members}\n",
    "conditional_map[\"FINISH\"] = END\n",
    "workflow.add_conditional_edges(\"supervisor\", lambda x: \"FINISH\" if any(\"FINISH\" in msg.content or \"finish\" in msg.content for msg in x[\"messages\"]) else x[\"next\"], conditional_map)\n",
    "\n",
    "# workflow.add_conditional_edges(\"supervisor\", lambda x: x[\"next\"], conditional_map)\n",
    "workflow.add_edge(START, \"supervisor\")\n",
    "\n",
    "graph = workflow.compile()"
   ]
  },
  {
   "cell_type": "code",
   "execution_count": null,
   "metadata": {},
   "outputs": [],
   "source": [
    "\n",
    "try:\n",
    "    display(Image(graph.get_graph().draw_mermaid_png()))\n",
    "except Exception:\n",
    "    pass"
   ]
  },
  {
   "cell_type": "code",
   "execution_count": null,
   "metadata": {},
   "outputs": [],
   "source": [
    "for s in graph.stream(\n",
    "    {\n",
    "        \"messages\": [\n",
    "            HumanMessage(\n",
    "                content=\"\",\n",
    "            )\n",
    "        ]\n",
    "    },\n",
    "    {\"recursion_limit\": 20},\n",
    "    debug=True,\n",
    "):\n",
    "    if \"__end__\" not in s:\n",
    "        print(s)\n",
    "        print(\"----\")"
   ]
  }
 ],
 "metadata": {
  "kernelspec": {
   "display_name": ".venv",
   "language": "python",
   "name": "python3"
  },
  "language_info": {
   "codemirror_mode": {
    "name": "ipython",
    "version": 3
   },
   "file_extension": ".py",
   "mimetype": "text/x-python",
   "name": "python",
   "nbconvert_exporter": "python",
   "pygments_lexer": "ipython3",
   "version": "3.12.4"
  }
 },
 "nbformat": 4,
 "nbformat_minor": 2
}
