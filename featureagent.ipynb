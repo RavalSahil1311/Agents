{
 "cells": [
  {
   "cell_type": "code",
   "execution_count": 2,
   "metadata": {},
   "outputs": [],
   "source": [
    "import functools\n",
    "import operator\n",
    "from IPython.display import Image, display\n",
    "from typing import Annotated, Sequence\n",
    "from typing_extensions import TypedDict\n",
    "from langchain.agents import (\n",
    "    AgentExecutor,\n",
    "    create_openai_tools_agent,\n",
    ")\n",
    "from IPython.display import Image, display\n",
    "from langchain.output_parsers.openai_functions import JsonOutputFunctionsParser\n",
    "from langchain_core.prompts import (\n",
    "    ChatPromptTemplate,\n",
    "    MessagesPlaceholder,\n",
    ")\n",
    "from langgraph.graph import END, START, StateGraph\n",
    "from langchain_core.messages import BaseMessage, HumanMessage\n",
    "\n",
    "from langchain_openai import ChatOpenAI\n",
    "from pydantic import BaseModel, Field,EmailStr\n",
    "from langchain_core.output_parsers import JsonOutputParser\n",
    "\n",
    "from langchain_community.tools.gmail.utils import (\n",
    "    build_resource_service,\n",
    "    get_gmail_credentials,\n",
    ")\n",
    "\n",
    "from langgraph.checkpoint.memory import MemorySaver\n",
    "from utils.tools.googleCalender import CreateGoogleCalendarEvent\n",
    "from utils.tools.indetity import identity\n",
    "from utils.prompt import (\n",
    "    COMPARISON_PROMPT,\n",
    "    COLOR_TREND_PROMPT,\n",
    "    GREETING_PROMPT,\n",
    "    PRECHAT_PROMPT,\n",
    "    FEEDBACK_PROMPT,\n",
    "    SCHEDULER_PROMPT,\n",
    "    SYSTEM_PROMPT,\n",
    "    FALLBACK_PROMPT,\n",
    ")\n",
    "\n",
    "memory = MemorySaver()"
   ]
  },
  {
   "cell_type": "code",
   "execution_count": 3,
   "metadata": {},
   "outputs": [],
   "source": [
    "class ComparisonVariables(BaseModel):\n",
    "    brand: str = Field(description=\"brand name of the product\", max_length=20)\n",
    "    industry: str = Field(description=\"industry of the product\")\n",
    "    year: int = Field(description=\"Year of the product information\", ge=2000)\n",
    "\n",
    "\n",
    "class ColorTrendVariables(BaseModel):\n",
    "    brand: str = Field(description=\"brand name of the product\", max_length=20)\n",
    "    start_year: int = Field(description=\"Starting year of the product information\")\n",
    "    end_year: int = Field(description=\"Ending year of the product information\")\n",
    "\n",
    "\n",
    "class PrechatVariables(BaseModel):\n",
    "    full_name: str = Field(description=\"Full name of the user\", max_length=20)\n",
    "    mobile_number: int = Field(\n",
    "        description=\"Mobile Number of the user must be of 10 digits.\",\n",
    "        max_length=10,\n",
    "        min_length=10,\n",
    "    )\n",
    "    email_id: EmailStr = Field(description=\"mail ID of the user\", max_length=20)\n",
    "\n",
    "\n",
    "class GetEventsSchema(BaseModel):\n",
    "    start_datetime: str = Field(\n",
    "        description=(\n",
    "            \"The start datetime for the event in the following format: \"\n",
    "            'YYYY-MM-DDTHH:MM:SS, where \"T\" separates the date and time.'\n",
    "        )\n",
    "    )\n",
    "    end_datetime: str = Field(\n",
    "        description=(\n",
    "            \"The end datetime for the event in the following format: \"\n",
    "            'YYYY-MM-DDTHH:MM:SS, where \"T\" separates the date and time.'\n",
    "        )\n",
    "    )\n",
    "    agenda: str\n",
    "    user_email: str\n",
    "\n",
    "    timezone: str = Field(\n",
    "        default=\"Asia/Kolkata\",\n",
    "    )"
   ]
  },
  {
   "cell_type": "code",
   "execution_count": 4,
   "metadata": {},
   "outputs": [],
   "source": [
    "credentials = get_gmail_credentials(\n",
    "    token_file=\"../token.json\",\n",
    "    scopes=[\"https://www.googleapis.com/auth/calendar\"],\n",
    "    client_secrets_file=\"credentials.json\",\n",
    ")\n",
    "\n",
    "calendar_service = build_resource_service(\n",
    "    credentials=credentials, service_name=\"calendar\", service_version=\"v3\"\n",
    ")\n",
    "\n",
    "createeventtool = CreateGoogleCalendarEvent.from_api_resource(calendar_service)"
   ]
  },
  {
   "cell_type": "code",
   "execution_count": 5,
   "metadata": {},
   "outputs": [],
   "source": [
    "llm = ChatOpenAI(model=\"gpt-3.5-turbo\", temperature=0)"
   ]
  },
  {
   "cell_type": "code",
   "execution_count": 6,
   "metadata": {},
   "outputs": [],
   "source": [
    "def create_agent(llm, tools: list, system_prompt):\n",
    "\n",
    "    agent = create_openai_tools_agent(llm, tools, system_prompt)\n",
    "    executor = AgentExecutor(agent=agent, tools=tools)\n",
    "\n",
    "    return executor"
   ]
  },
  {
   "cell_type": "code",
   "execution_count": 7,
   "metadata": {},
   "outputs": [],
   "source": [
    "comparison_parser = JsonOutputParser(pydantic_object=ComparisonVariables)"
   ]
  },
  {
   "cell_type": "code",
   "execution_count": 8,
   "metadata": {},
   "outputs": [],
   "source": [
    "comparison_prompt_template = ChatPromptTemplate.from_messages(\n",
    "    [\n",
    "        (\n",
    "            \"system\",\n",
    "            COMPARISON_PROMPT,\n",
    "        ),\n",
    "        MessagesPlaceholder(variable_name=\"messages\"),\n",
    "        MessagesPlaceholder(variable_name=\"agent_scratchpad\"),\n",
    "    ]\n",
    ").partial(format_instructions_comp=comparison_parser.get_format_instructions())"
   ]
  },
  {
   "cell_type": "code",
   "execution_count": 9,
   "metadata": {},
   "outputs": [],
   "source": [
    "comparison = create_agent(\n",
    "    llm=llm, tools=[identity], system_prompt=comparison_prompt_template\n",
    ")"
   ]
  },
  {
   "cell_type": "code",
   "execution_count": 10,
   "metadata": {},
   "outputs": [],
   "source": [
    "coolortrend_parser = JsonOutputParser(pydantic_object=ColorTrendVariables)\n",
    "\n",
    "trend_prompt_template = ChatPromptTemplate.from_messages(\n",
    "    [\n",
    "        (\n",
    "            \"system\",\n",
    "            COLOR_TREND_PROMPT,\n",
    "        ),\n",
    "        MessagesPlaceholder(variable_name=\"messages\"),\n",
    "        MessagesPlaceholder(variable_name=\"agent_scratchpad\"),\n",
    "    ]\n",
    ").partial(format_instructions_trend=coolortrend_parser.get_format_instructions())\n",
    "\n",
    "colortrend = create_agent(llm, [identity], trend_prompt_template)"
   ]
  },
  {
   "cell_type": "code",
   "execution_count": 11,
   "metadata": {},
   "outputs": [],
   "source": [
    "# colortrend.invoke(\n",
    "#     {\n",
    "#         \"messages\": [\n",
    "#             HumanMessage(\n",
    "#                 content=\"What color schemes has Audi used in their cars in the past five years?\",\n",
    "#             )\n",
    "#         ]\n",
    "#     }\n",
    "# )"
   ]
  },
  {
   "cell_type": "code",
   "execution_count": 12,
   "metadata": {},
   "outputs": [],
   "source": [
    "greet_prompt_template = ChatPromptTemplate.from_messages(\n",
    "    [\n",
    "        (\n",
    "            \"system\",\n",
    "            GREETING_PROMPT,\n",
    "        ),\n",
    "        MessagesPlaceholder(variable_name=\"agent_scratchpad\"),\n",
    "    ]\n",
    ")\n",
    "greet_agent = create_agent(llm, [identity], greet_prompt_template)"
   ]
  },
  {
   "cell_type": "code",
   "execution_count": 13,
   "metadata": {},
   "outputs": [],
   "source": [
    "prechat_parser = JsonOutputParser(pydantic_object=PrechatVariables)\n",
    "\n",
    "\n",
    "prechat_prompt_template = ChatPromptTemplate.from_messages(\n",
    "    [\n",
    "        (\n",
    "            \"system\",\n",
    "            PRECHAT_PROMPT,\n",
    "        ),\n",
    "        MessagesPlaceholder(variable_name=\"messages\"),\n",
    "        MessagesPlaceholder(variable_name=\"agent_scratchpad\"),\n",
    "    ]\n",
    ").partial(format_instructions_prechat=prechat_parser.get_format_instructions())\n",
    "\n",
    "prechat_agent = create_agent(llm, [identity], prechat_prompt_template)"
   ]
  },
  {
   "cell_type": "code",
   "execution_count": 14,
   "metadata": {},
   "outputs": [],
   "source": [
    "# prechat_agent.invoke(\n",
    "#     {\n",
    "#         \"messages\": [\n",
    "#             HumanMessage(\n",
    "#                 content=\"Hello I am Rohan and this is my contact no: 1024585251\",\n",
    "#             )\n",
    "#         ]\n",
    "#     }\n",
    "# )"
   ]
  },
  {
   "cell_type": "code",
   "execution_count": 15,
   "metadata": {},
   "outputs": [],
   "source": [
    "feedback_prompt_template = ChatPromptTemplate.from_messages(\n",
    "    [\n",
    "        (\n",
    "            \"system\",\n",
    "            FEEDBACK_PROMPT,\n",
    "        ),\n",
    "        MessagesPlaceholder(variable_name=\"agent_scratchpad\"),\n",
    "    ]\n",
    ")\n",
    "feedback_agent = create_agent(llm, [identity], feedback_prompt_template)"
   ]
  },
  {
   "cell_type": "code",
   "execution_count": 16,
   "metadata": {},
   "outputs": [],
   "source": [
    "# feedback_agent.invoke(\n",
    "#     {\n",
    "#         \"messages\": [\n",
    "#             HumanMessage(\n",
    "#                 content=\"I'm done with my questions\",\n",
    "#             )\n",
    "#         ]\n",
    "#     }\n",
    "# )"
   ]
  },
  {
   "cell_type": "code",
   "execution_count": 17,
   "metadata": {},
   "outputs": [],
   "source": [
    "scheduler_parser = JsonOutputParser(pydantic_object=GetEventsSchema)\n",
    "\n",
    "scheduler_prompt_template = ChatPromptTemplate.from_messages(\n",
    "    [\n",
    "        (\n",
    "            \"system\",\n",
    "            SCHEDULER_PROMPT,\n",
    "        ),\n",
    "        MessagesPlaceholder(variable_name=\"messages\"),\n",
    "        MessagesPlaceholder(variable_name=\"agent_scratchpad\"),\n",
    "    ],\n",
    ").partial(\n",
    "    format_instructions_schedule=scheduler_parser.get_format_instructions(),\n",
    ")\n",
    "\n",
    "scheduler_agent = create_agent(\n",
    "    llm=llm,\n",
    "    tools=[createeventtool, identity],\n",
    "    system_prompt=scheduler_prompt_template,\n",
    "\n",
    ")\n"
   ]
  },
  {
   "cell_type": "code",
   "execution_count": 18,
   "metadata": {},
   "outputs": [],
   "source": [
    "fallback_prompt_template = ChatPromptTemplate.from_messages(\n",
    "[\n",
    "    (\n",
    "        \"system\",\n",
    "        FALLBACK_PROMPT,\n",
    "        \n",
    "    ),\n",
    "    # MessagesPlaceholder(variable_name=\"messages\"),\n",
    "    MessagesPlaceholder(variable_name=\"agent_scratchpad\"),\n",
    "],\n",
    ")\n",
    "\n",
    "fallback_agent = create_agent(\n",
    "    llm=llm,\n",
    "    tools=[identity],\n",
    "    system_prompt=fallback_prompt_template,\n",
    ")\n"
   ]
  },
  {
   "cell_type": "code",
   "execution_count": 19,
   "metadata": {},
   "outputs": [],
   "source": [
    "def agent_node(state, agent, name):\n",
    "    result = agent.invoke(state)\n",
    "    return {\"messages\": [HumanMessage(content=result[\"output\"], name=name)]}"
   ]
  },
  {
   "cell_type": "code",
   "execution_count": 20,
   "metadata": {},
   "outputs": [],
   "source": [
    "members = [\n",
    "    # \"greet_agent\",\n",
    "    # \"prechat_agent\",\n",
    "    \"comparison\",\n",
    "    \"colortrend\",\n",
    "    \"scheduler_agent\",\n",
    "    \"fallback_agent\",\n",
    "    \"feedback_agent\",\n",
    "]\n",
    "\n",
    "\n",
    "options = members\n",
    "\n",
    "function_def = {\n",
    "    \"name\": \"route\",\n",
    "    \"description\": \"Select the next role.\",\n",
    "    \"parameters\": {\n",
    "        \"title\": \"routeSchema\",\n",
    "        \"type\": \"object\",\n",
    "        \"properties\": {\n",
    "            \"next\": {\n",
    "                \"title\": \"Next\",\n",
    "                \"anyOf\": [\n",
    "                    {\"enum\": options},\n",
    "                ],\n",
    "            }\n",
    "        },\n",
    "        \"required\": [\"next\"],\n",
    "    },\n",
    "}\n",
    "\n",
    "prompt = ChatPromptTemplate.from_messages(\n",
    "    [\n",
    "        (\"system\", SYSTEM_PROMPT),\n",
    "        MessagesPlaceholder(variable_name=\"messages\"),\n",
    "        (\n",
    "            \"system\",\n",
    "            \"Given the conversation above , who should act next?\"\n",
    "            \"Or should we FINISH? Select one of : {options}\",\n",
    "        ),\n",
    "    ]\n",
    ").partial(options=str(options), members=\", \".join(members))\n",
    "\n",
    "llm = ChatOpenAI(temperature=0)\n",
    "# llm = ChatGroq(model=\"llama3-70b-8192\")\n",
    "\n",
    "supervisor_chain = (\n",
    "    prompt\n",
    "    | llm.bind_functions(\n",
    "        functions=[function_def],\n",
    "        function_call=\"route\",\n",
    "    )\n",
    "    | JsonOutputFunctionsParser()\n",
    ")"
   ]
  },
  {
   "cell_type": "code",
   "execution_count": 21,
   "metadata": {},
   "outputs": [],
   "source": [
    "class AgentState(TypedDict):\n",
    "    messages: Annotated[Sequence[BaseMessage], operator.add]\n",
    "\n",
    "    next: str\n",
    "\n",
    "\n",
    "def route(x):\n",
    "    if len(x[\"messages\"]) > 1:\n",
    "        return \"supervisor\"\n",
    "    else:\n",
    "        return \"greet_agent\""
   ]
  },
  {
   "cell_type": "code",
   "execution_count": 22,
   "metadata": {},
   "outputs": [],
   "source": [
    "comparison_node = functools.partial(agent_node, agent=comparison, name=\"comparison\")\n",
    "\n",
    "colortrend_node = functools.partial(agent_node, agent=colortrend, name=\"colortrend\")\n",
    "\n",
    "greeting_node = functools.partial(agent_node, agent=greet_agent, name=\"greet_agent\")\n",
    "\n",
    "prechat_node = functools.partial(agent_node, agent=prechat_agent, name=\"prechat_agent\")\n",
    "\n",
    "feedback_node = functools.partial(\n",
    "    agent_node, agent=feedback_agent, name=\"feedback_agent\"\n",
    ")\n",
    "\n",
    "scheduler_node = functools.partial(\n",
    "    agent_node, agent=scheduler_agent, name=\"scheduler_agent\"\n",
    ")\n",
    "\n",
    "fallback_node = functools.partial(\n",
    "    agent_node,agent = fallback_agent, name = \"fallback_agent\"\n",
    ")"
   ]
  },
  {
   "cell_type": "code",
   "execution_count": 23,
   "metadata": {},
   "outputs": [
    {
     "name": "stdout",
     "output_type": "stream",
     "text": [
      "{'greet_agent': 'greet_agent', 'prechat_agent': 'prechat_agent', 'comparison': 'comparison', 'colortrend': 'colortrend', 'scheduler_agent': 'scheduler_agent', 'fallback_agent': 'fallback_agent', 'feedback_agent': 'feedback_agent'}\n"
     ]
    }
   ],
   "source": [
    "workflow = StateGraph(AgentState)\n",
    "workflow.add_node(\"comparison\", comparison_node)\n",
    "workflow.add_node(\"colortrend\", colortrend_node)\n",
    "workflow.add_node(\"greet_agent\", greeting_node)\n",
    "workflow.add_node(\"supervisor\", supervisor_chain)\n",
    "workflow.add_node(\"prechat_agent\", prechat_node)\n",
    "workflow.add_node(\"feedback_agent\", feedback_node)\n",
    "workflow.add_node(\"scheduler_agent\", scheduler_node)\n",
    "workflow.add_node(\"fallback_agent\", fallback_node)\n",
    "\n",
    "for member in members:\n",
    "    # if member==\"greet_agent\":\n",
    "    #     continue\n",
    "    workflow.add_edge(member, END)\n",
    "\n",
    "# workflow.add_edge(\"greet_agent\",\"supervisor\")\n",
    "\n",
    "# workflow.add_conditional_edges(\"supervisor\",{\"comparison\":\"comparison\"})\n",
    "\n",
    "# workflow.add_edge(\"prechat_agent\", \"supervisor\")\n",
    "\n",
    "\n",
    "\n",
    "conditional_map = {k: k for k in members\n",
    "                    # if k != \"prechat_agent\"\n",
    "                    }\n",
    "# conditional_map[\"FINISH\"] = END\n",
    "# new_map = {k: k for k in [\"prechat_agent\"]}\n",
    "# workflow.add_conditional_edges(\"greet_agent\",lambda x: x[\"next\"],new_map)\n",
    "# conditional_map[\"greet_agent\"] = \"prechat_agent\"\n",
    "# workflow.add_conditional_edges(\"supervisor\", lambda x: \"FINISH\" if any(\"FINISH\" in msg.content or \"finish\" in msg.content for msg in x[\"messages\"]) else x[\"next\"], conditional_map)\n",
    "\n",
    "workflow.add_edge(\"greet_agent\", \"prechat_agent\")\n",
    "workflow.add_edge(\"prechat_agent\", END)\n",
    "workflow.set_conditional_entry_point(\n",
    "    route,\n",
    "    {\"supervisor\": \"supervisor\", \"greet_agent\": \"greet_agent\"},\n",
    ")\n",
    "workflow.add_conditional_edges(\"supervisor\", lambda x: x[\"next\"], conditional_map)\n",
    "\n",
    "graph = workflow.compile(checkpointer=memory)"
   ]
  },
  {
   "cell_type": "code",
   "execution_count": 24,
   "metadata": {},
   "outputs": [
    {
     "data": {
      "image/jpeg": "[encoded data removed]",
      "text/plain": [
       "<IPython.core.display.Image object>"
      ]
     },
     "metadata": {},
     "output_type": "display_data"
    }
   ],
   "source": [
    "try:\n",
    "    display(Image(graph.get_graph().draw_mermaid_png()))\n",
    "except Exception:\n",
    "    pass"
   ]
  },
  {
   "cell_type": "code",
   "execution_count": 25,
   "metadata": {},
   "outputs": [],
   "source": [
    "config = {\"configurable\": {\"thread_id\": \"5\"}}"
   ]
  },
  {
   "cell_type": "code",
   "execution_count": 26,
   "metadata": {},
   "outputs": [
    {
     "name": "stdout",
     "output_type": "stream",
     "text": [
      "{'supervisor': {'next': 'fallback_agent'}}\n",
      "----\n",
      "{'supervisor': {'next': 'scheduler_agent'}}\n",
      "----\n",
      "{'supervisor': {'next': 'colortrend'}}\n",
      "----\n",
      "{'colortrend': {'messages': [HumanMessage(content='{\"brand\": \"Audi\", \"start_year\": 2017, \"end_year\": 2022} FINISH', name='colortrend')]}}\n",
      "----\n",
      "{'supervisor': {'next': 'feedback_agent'}}\n",
      "----\n",
      "{'feedback_agent': {'messages': [HumanMessage(content='Your feedback is valuable and will help us enhance our service. Thank you!', name='feedback_agent')]}}\n",
      "----\n",
      "Goodbye!\n"
     ]
    }
   ],
   "source": [
    "while True:\n",
    "    user_input = input(\"User: \")\n",
    "    if user_input.lower() in [\"quit\", \"exit\", \"q\"]:\n",
    "        print(\"Goodbye!\")\n",
    "        break\n",
    "    for s in graph.stream(\n",
    "        {\"messages\": [HumanMessage(content=user_input)]}, config\n",
    "    ):\n",
    "        if \"__end__\" not in s:\n",
    "            print(s)\n",
    "            print(\"----\")\n",
    "            "
   ]
  },
  {
   "cell_type": "code",
   "execution_count": null,
   "metadata": {},
   "outputs": [],
   "source": []
  }
 ],
 "metadata": {
  "kernelspec": {
   "display_name": ".venv",
   "language": "python",
   "name": "python3"
  },
  "language_info": {
   "codemirror_mode": {
    "name": "ipython",
    "version": 3
   },
   "file_extension": ".py",
   "mimetype": "text/x-python",
   "name": "python",
   "nbconvert_exporter": "python",
   "pygments_lexer": "ipython3",
   "version": "3.11.5"
  }
 },
 "nbformat": 4,
 "nbformat_minor": 2
}
