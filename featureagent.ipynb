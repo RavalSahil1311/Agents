{
 "cells": [
  {
   "cell_type": "code",
   "execution_count": 1,
   "metadata": {},
   "outputs": [],
   "source": [
    "import functools\n",
    "import operator\n",
    "from typing import Annotated, List, Dict, Optional, Any, Sequence, Union\n",
    "from langchain_core.tools import tool\n",
    "from typing_extensions import TypedDict\n",
    "\n",
    "from langchain.agents import (\n",
    "    AgentExecutor,\n",
    "    create_openai_tools_agent,\n",
    "\n",
    ")\n",
    "from IPython.display import Image, display\n",
    "from langchain.output_parsers.openai_functions import JsonOutputFunctionsParser\n",
    "from langchain_core.prompts import (\n",
    "    ChatPromptTemplate,\n",
    "    MessagesPlaceholder,\n",
    "    PromptTemplate,\n",
    "    SystemMessagePromptTemplate,\n",
    ")\n",
    "from langgraph.graph import END, START, StateGraph\n",
    "from langchain_core.messages import BaseMessage, HumanMessage\n",
    "from langchain_openai import ChatOpenAI\n",
    "from pydantic import BaseModel, Field\n",
    "from langchain_core.output_parsers import JsonOutputParser"
   ]
  },
  {
   "cell_type": "code",
   "execution_count": 2,
   "metadata": {},
   "outputs": [],
   "source": [
    "class ComparisonVariables(BaseModel):\n",
    "    brand: str = Field(description=\"brand name of the product\", max_length=20)\n",
    "    industry: str = Field(description=\"industry of the product\")\n",
    "    year: int = Field(description=\"Year of the product information\", ge=2000)\n",
    "\n",
    "\n",
    "class ColorTrendVariables(BaseModel):\n",
    "    brand: str = Field(description=\"brand name of the product\", max_length=20)\n",
    "    start_year: int = Field(description=\"Starting year of the product information\")\n",
    "    end_year: int = Field(description=\"Ending year of the product information\")"
   ]
  },
  {
   "cell_type": "code",
   "execution_count": 3,
   "metadata": {},
   "outputs": [],
   "source": [
    "@tool\n",
    "def identity(query):\n",
    "    \"\"\"This is the identity function return whatever user pass in query.\"\"\"\n",
    "    return query"
   ]
  },
  {
   "cell_type": "code",
   "execution_count": 4,
   "metadata": {},
   "outputs": [],
   "source": [
    "llm = ChatOpenAI()"
   ]
  },
  {
   "cell_type": "code",
   "execution_count": 5,
   "metadata": {},
   "outputs": [],
   "source": [
    "def create_agent(llm, tools: list, system_prompt):\n",
    "\n",
    "    agent = create_openai_tools_agent(llm, tools, system_prompt)\n",
    "    executor = AgentExecutor(agent=agent, tools=tools)\n",
    "\n",
    "    return executor"
   ]
  },
  {
   "cell_type": "code",
   "execution_count": 6,
   "metadata": {},
   "outputs": [],
   "source": [
    "prompt_template_comparison = \"\"\"You are responsible for handling queries that involve comparisons between the color family frequency of specific automobile brands and the overall auto industry for specified years. Your goal is to provide accurate comparisons based on the given criteria and follow the instructions precisely.\n",
    "\n",
    "Key Tasks:\n",
    "\n",
    "Comparison Focus:\n",
    "\n",
    "Answer questions involving comparisons between the color family frequency of a specific automobile brand and the overall auto industry.\n",
    "Ensure that the comparison is specific to the year or years mentioned in the query.\n",
    "\n",
    "Data Requirements:\n",
    "\n",
    "Use the provided datasets for both the specific automobile brand and the overall auto industry.\n",
    "Ensure that the data used is relevant to the specified year(s).\n",
    "\n",
    "Example Queries:\n",
    "\n",
    "\"Can I see a comparison of the color family frequency for Audi and the auto industry in 2023?\"\n",
    "\"What does the color family frequency look like for BMW versus the auto industry over the last three years?\"\n",
    "\"How does the color family frequency for Toyota compare to the rest of the auto industry in 2022?\"\n",
    "\n",
    "Output Format:\n",
    "\n",
    "Follow the provided format instructions.\n",
    "Once all features are extracted and formatted according to the instructions, your task is complete.\n",
    "\n",
    "Final Step:\n",
    "Output Format:\n",
    "{format_instructions}\n",
    "Always conclude your response with \"FINISH\" once the features are correctly extracted and formatted.\"\"\"\n",
    "parser = JsonOutputParser(pydantic_object=ComparisonVariables)\n",
    "# print(type(prompt_template_comparison))"
   ]
  },
  {
   "cell_type": "code",
   "execution_count": 7,
   "metadata": {},
   "outputs": [],
   "source": [
    "\n",
    "comp_prompt_template = ChatPromptTemplate.from_messages(\n",
    "    [\n",
    "        (\n",
    "            \"system\",\n",
    "            prompt_template_comparison,\n",
    "        ),\n",
    "        MessagesPlaceholder(variable_name=\"messages\"),\n",
    "        MessagesPlaceholder(variable_name=\"agent_scratchpad\"),\n",
    "\n",
    "    ],\n",
    ").partial(format_instructions=parser.get_format_instructions())\n",
    "\n"
   ]
  },
  {
   "cell_type": "code",
   "execution_count": 8,
   "metadata": {},
   "outputs": [],
   "source": [
    "\n",
    "comparison = create_agent(\n",
    "    llm=llm, tools=[identity], system_prompt=comp_prompt_template\n",
    ")\n"
   ]
  },
  {
   "cell_type": "code",
   "execution_count": 9,
   "metadata": {},
   "outputs": [],
   "source": [
    "prompt_color_trend =     \"\"\"\n",
    "You are responsible for extracting specific features from queries that focus on the color trends and usage of automobile brands over various periods. Do not provide answers or make assumptions; simply extract and return the features specified in the query. Once the extraction is complete, your task ends. Here are your key tasks:\n",
    "\n",
    "Feature Extraction Focus:\n",
    "\n",
    "Extract details about the automobile brand and the period specified in the query.\n",
    "Ensure only the information explicitly mentioned in the query is extracted.\n",
    "Features to Extract:\n",
    "\n",
    "Brand: The specific brand mentioned in the query.\n",
    "Period: The specific period mentioned in the query (e.g., \"last five years,\" \"past decade\").\n",
    "Even industry is mentioned in query do not extract it.\n",
    "Example Queries and Extracted Features:\n",
    "\n",
    "\n",
    "Output Format:\n",
    "{format_instructions}\n",
    "Once the features are extracted and formatted, your task is complete return features with FINISH.\n",
    "\n",
    "\"\"\"\n",
    "parser = JsonOutputParser(pydantic_object=ColorTrendVariables)\n",
    "\n",
    "trend_prompt_template = ChatPromptTemplate.from_messages(\n",
    "    [\n",
    "        (\n",
    "            \"system\",\n",
    "            prompt_color_trend,\n",
    "        ),\n",
    "        MessagesPlaceholder(variable_name=\"messages\"),\n",
    "        MessagesPlaceholder(variable_name=\"agent_scratchpad\"),\n",
    "\n",
    "    ]\n",
    ").partial(format_instructions=parser.get_format_instructions())\n",
    "\n",
    "colortrend = create_agent(llm, [identity], trend_prompt_template)\n"
   ]
  },
  {
   "cell_type": "code",
   "execution_count": 10,
   "metadata": {},
   "outputs": [],
   "source": [
    "greeting_prompt = \"\"\"\n",
    "        You are responsible for handling the initial interaction with users by providing a friendly and welcoming greeting. Your primary role is to acknowledge the user's presence, make them feel comfortable, and briefly inform them of the services available. Once you have greeted the user and provided the necessary information, your task ends. Here are your key tasks:\n",
    "\n",
    "        Greeting:\n",
    "\n",
    "        Start the conversation with a warm and friendly greeting.\n",
    "        Acknowledge the user's presence and make them feel welcome.\n",
    "        Introduction to Services:\n",
    "\n",
    "        Briefly inform the user about the available services, such as extracting information related to automobile brands, color trends, industry comparisons, and more.\n",
    "        Let the user know that you can route their query to the appropriate agent based on their needs.\n",
    "        Example Interactions:\n",
    "\n",
    "        \"Hello! Welcome! I'm here to help you with any questions you have about color trends, brand comparisons, and more. Just let me know what you're looking for, and I'll guide you to the right place.\"\n",
    "        \"Hi there! It's great to see you. I'm here to assist you with queries related to brands, color trends, and industry comparisons. How can I help you today?\"\n",
    "        End of Task:\n",
    "\n",
    "        Once you have greeted the user and provided an overview of the services, your task is complete. Do not perform any further actions.\n",
    "        Output Format:\n",
    "\n",
    "        Provide the greeting and service introduction in a clear and concise manner.\n",
    "\"\"\"\n",
    "\n",
    "greet_prompt_template = ChatPromptTemplate.from_messages(\n",
    "    [\n",
    "        (\n",
    "            \"system\",\n",
    "            greeting_prompt,\n",
    "        ),\n",
    "        # MessagesPlaceholder(variable_name=\"messages\"),\n",
    "        MessagesPlaceholder(variable_name=\"agent_scratchpad\"),\n",
    "\n",
    "    ]\n",
    ").partial(format_instructions=parser.get_format_instructions())\n",
    "\n",
    "greet_agent = create_agent(llm, [identity], greet_prompt_template)\n",
    "\n",
    "\n"
   ]
  },
  {
   "cell_type": "code",
   "execution_count": 11,
   "metadata": {},
   "outputs": [
    {
     "data": {
      "text/plain": [
       "{'input': 'Hello I am Rohan',\n",
       " 'output': \"Hello! Welcome! I'm here to help you with any questions you have about color trends, brand comparisons, and more. Just let me know what you're looking for, and I'll guide you to the right place.\"}"
      ]
     },
     "execution_count": 11,
     "metadata": {},
     "output_type": "execute_result"
    }
   ],
   "source": [
    "greet_agent.invoke(input={\"input\": \"Hello I am Rohan\"})\n"
   ]
  },
  {
   "cell_type": "code",
   "execution_count": 12,
   "metadata": {},
   "outputs": [],
   "source": [
    "# print(prompt)"
   ]
  },
  {
   "cell_type": "code",
   "execution_count": 13,
   "metadata": {},
   "outputs": [],
   "source": [
    "def agent_node(state, agent, name):\n",
    "    result = agent.invoke(state)\n",
    "    return {\"messages\": [HumanMessage(content=result[\"output\"], name=name)]}"
   ]
  },
  {
   "cell_type": "code",
   "execution_count": 14,
   "metadata": {},
   "outputs": [],
   "source": [
    "members = [\n",
    "    \"comparison\",\n",
    "    \"colortrend\",\n",
    "    \"greet_agent\",\n",
    "]\n",
    "system_prompt = \"\"\"\n",
    "\n",
    "You are tasked with routing user queries to the appropriate agent based on their content. The agents you manage include:\n",
    "Agents: {members}\n",
    "Greeting Agent: Handles initial interactions, providing a friendly welcome and an overview of services.\n",
    "Comparison Agent: Focuses on comparing the color family frequency of specific automobile brands with the overall auto industry for specified years.\n",
    "Colortrend Agent: Analyzes or lists the color families or trends of specific automobile brands over various periods.\n",
    "Use the following guidelines to determine which agent to choose:\n",
    "\n",
    "Greeting Agent:\n",
    "\n",
    "The Greeting Agent will greet the user and provide an overview of available services.\n",
    "After the greeting is complete, the user query should be passed back for further routing to the appropriate agent based on content.\n",
    "Comparison Agent:\n",
    "\n",
    "Choose this agent if the question involves a comparison between a specific automobile brand and the overall auto industry for one or more specified years.\n",
    "Look for keywords like \"compare,\" \"comparison,\" \"year(s),\" \"industry,\" and specific brand names (e.g., Audi, BMW, Toyota).\n",
    "Colortrend Agent:\n",
    "\n",
    "Choose this agent if the question involves analyzing or listing the color families or trends of specific automobile brands over any given period.\n",
    "Look for keywords like \"color trends,\" \"color families,\" \"usage,\" \"period,\" and specific brand names (e.g., Audi, BMW, Toyota).\n",
    "Instructions for Differentiation:\n",
    "\n",
    "Identify whether the query is about a comparison with the auto industry or a focus on a specific brand's historical color usage.\n",
    "Determine if the query involves specific years for a comparison or a broader analysis of color trends over time.\n",
    "Once an agent signals FINISH, conclude the execution.\n",
    "Execution Flow:\n",
    "\n",
    "Start by routing the query to the Greeting Agent for the initial interaction.\n",
    "After the Greeting Agent completes its task, route the query to either the Comparison Agent or the Colortrend Agent based on the content.\n",
    "Conclude the task once the appropriate agent signals completion.\n",
    "\n",
    "\"\"\"\n",
    "\n",
    "options = [\"FINISH\"] + members\n",
    "\n",
    "function_def = {\n",
    "    \"name\": \"route\",\n",
    "    \"description\": \"Select the next role.\",\n",
    "    \"parameters\": {\n",
    "        \"title\": \"routeSchema\",\n",
    "        \"type\": \"object\",\n",
    "        \"properties\": {\n",
    "            \"next\": {\n",
    "                \"title\": \"Next\",\n",
    "                \"anyOf\": [\n",
    "                    {\"enum\": options},\n",
    "                ],\n",
    "            }\n",
    "        },\n",
    "        \"required\": [\"next\"],\n",
    "    },\n",
    "}\n",
    "\n",
    "prompt = ChatPromptTemplate.from_messages(\n",
    "    [\n",
    "        (\"system\", system_prompt),\n",
    "        MessagesPlaceholder(variable_name=\"messages\"),\n",
    "        (\n",
    "            \"system\",\n",
    "            \"Given the conversation above , who should act next?\"\n",
    "            \"Or should we FINISH? Select one of : {options}\",\n",
    "        ),\n",
    "    ]\n",
    ").partial(options=str(options), members=\", \".join(members))\n",
    "\n",
    "llm = ChatOpenAI()\n",
    "\n",
    "supervisor_chain = (\n",
    "    prompt\n",
    "    | llm.bind_functions(\n",
    "        functions=[function_def],\n",
    "        function_call=\"route\",\n",
    "    )\n",
    "    | JsonOutputFunctionsParser()\n",
    ")"
   ]
  },
  {
   "cell_type": "code",
   "execution_count": 15,
   "metadata": {},
   "outputs": [],
   "source": [
    "class AgentState(TypedDict):\n",
    "    messages: Annotated[Sequence[BaseMessage], operator.add]\n",
    "\n",
    "    next: str"
   ]
  },
  {
   "cell_type": "code",
   "execution_count": 16,
   "metadata": {},
   "outputs": [],
   "source": [
    "comparison_node = functools.partial(agent_node, agent=comparison, name=\"comparison\")\n",
    "\n",
    "colortrend_node = functools.partial(agent_node, agent=colortrend, name=\"colortrend\")\n",
    "\n",
    "greeting_node = functools.partial(agent_node, agent = greet_agent, name = \"greet_agent\")"
   ]
  },
  {
   "cell_type": "code",
   "execution_count": 17,
   "metadata": {},
   "outputs": [],
   "source": [
    "workflow = StateGraph(AgentState)\n",
    "workflow.add_node(\"comparison\", comparison_node)\n",
    "workflow.add_node(\"colortrend\", colortrend_node)\n",
    "workflow.add_node(\"greet_agent\", greeting_node)\n",
    "workflow.add_node(\"supervisor\", supervisor_chain)\n",
    "\n",
    "for member in members:\n",
    "    workflow.add_edge(member, \"supervisor\")\n",
    "\n",
    "conditional_map = {k: k for k in members}\n",
    "conditional_map[\"FINISH\"] = END\n",
    "workflow.add_conditional_edges(\"supervisor\", lambda x: \"FINISH\" if any(\"FINISH\" in msg.content or \"finish\" in msg.content for msg in x[\"messages\"]) else x[\"next\"], conditional_map)\n",
    "\n",
    "# workflow.add_conditional_edges(\"supervisor\", lambda x: x[\"next\"], conditional_map)\n",
    "workflow.add_edge(START, \"supervisor\")\n",
    "\n",
    "graph = workflow.compile()"
   ]
  },
  {
   "cell_type": "code",
   "execution_count": 18,
   "metadata": {},
   "outputs": [
    {
     "data": {
      "image/jpeg": "[encoded data removed]",
      "text/plain": [
       "<IPython.core.display.Image object>"
      ]
     },
     "metadata": {},
     "output_type": "display_data"
    }
   ],
   "source": [
    "\n",
    "try:\n",
    "    display(Image(graph.get_graph().draw_mermaid_png()))\n",
    "except Exception:\n",
    "    pass"
   ]
  },
  {
   "cell_type": "code",
   "execution_count": 19,
   "metadata": {},
   "outputs": [
    {
     "name": "stdout",
     "output_type": "stream",
     "text": [
      "{'supervisor': {'next': 'greet_agent'}}\n",
      "----\n",
      "{'greet_agent': {'messages': [HumanMessage(content=\"Hello! Welcome! I'm here to help you with any questions you have about color trends, brand comparisons, and more. Just let me know what you're looking for, and I'll guide you to the right place.\", name='greet_agent')]}}\n",
      "----\n",
      "{'supervisor': {'next': 'FINISH'}}\n",
      "----\n"
     ]
    }
   ],
   "source": [
    "for s in graph.stream(\n",
    "    {\n",
    "        \"messages\": [\n",
    "            HumanMessage(\n",
    "                content=\"Good Morning\",\n",
    "            )\n",
    "        ]\n",
    "    },\n",
    "    {\"recursion_limit\": 20},\n",
    "    # debug=True,\n",
    "):\n",
    "    if \"__end__\" not in s:\n",
    "        print(s)\n",
    "        print(\"----\")"
   ]
  },
  {
   "cell_type": "code",
   "execution_count": null,
   "metadata": {},
   "outputs": [],
   "source": []
  }
 ],
 "metadata": {
  "kernelspec": {
   "display_name": ".venv",
   "language": "python",
   "name": "python3"
  },
  "language_info": {
   "codemirror_mode": {
    "name": "ipython",
    "version": 3
   },
   "file_extension": ".py",
   "mimetype": "text/x-python",
   "name": "python",
   "nbconvert_exporter": "python",
   "pygments_lexer": "ipython3",
   "version": "3.12.4"
  }
 },
 "nbformat": 4,
 "nbformat_minor": 2
}
