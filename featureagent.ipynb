{
 "cells": [
  {
   "cell_type": "code",
   "execution_count": 1,
   "metadata": {},
   "outputs": [
    {
     "name": "stderr",
     "output_type": "stream",
     "text": [
      "C:\\Users\\LAP-028\\AppData\\Local\\Temp\\ipykernel_24560\\2996656003.py:25: LangChainDeprecationWarning: As of langchain-core 0.3.0, LangChain uses pydantic v2 internally. The langchain_core.pydantic_v1 module was a compatibility shim for pydantic v1, and should no longer be used. Please update the code to import from Pydantic directly.\n",
      "\n",
      "For example, replace imports like: `from langchain_core.pydantic_v1 import BaseModel`\n",
      "with: `from pydantic import BaseModel`\n",
      "or the v1 compatibility namespace if you are working in a code base that has not been fully upgraded to pydantic 2 yet. \tfrom pydantic.v1 import BaseModel\n",
      "\n",
      "  from utils.tools.googleCalender import CreateGoogleCalendarEvent\n"
     ]
    }
   ],
   "source": [
    "import functools\n",
    "import operator\n",
    "from IPython.display import Image, display\n",
    "from typing import Annotated, Sequence\n",
    "from typing_extensions import TypedDict\n",
    "from langchain.agents import (\n",
    "    AgentExecutor,\n",
    "    create_openai_tools_agent,\n",
    ")\n",
    "from pydantic.v1 import BaseModel, Field, EmailStr\n",
    "from IPython.display import Image, display\n",
    "from langchain.output_parsers.openai_functions import JsonOutputFunctionsParser\n",
    "from langchain.output_parsers import BooleanOutputParser\n",
    "from langchain_core.output_parsers import JsonOutputParser\n",
    "from langchain_core.prompts import (\n",
    "    ChatPromptTemplate,\n",
    "    MessagesPlaceholder,\n",
    ")\n",
    "from langgraph.graph import END, START, StateGraph\n",
    "from langchain_core.messages import BaseMessage, HumanMessage\n",
    "\n",
    "from langchain_openai import ChatOpenAI\n",
    "\n",
    "from langgraph.checkpoint.memory import MemorySaver\n",
    "from utils.tools.googleCalender import CreateGoogleCalendarEvent\n",
    "from utils.tools.indetity import identity\n",
    "from utils.tools.EmailValidator import validate_email\n",
    "from langchain_community.tools.gmail.utils import (\n",
    "    build_resource_service,\n",
    "    get_gmail_credentials,\n",
    ")\n",
    "\n",
    "from utils.prompt import (\n",
    "    COMPARISON_PROMPT,\n",
    "    COLOR_TREND_PROMPT,\n",
    "    GREETING_PROMPT,\n",
    "    PRECHAT_PROMPT,\n",
    "    FEEDBACK_PROMPT,\n",
    "    SCHEDULER_PROMPT,\n",
    "    SYSTEM_PROMPT,\n",
    "    FALLBACK_PROMPT,\n",
    "    GREETING_CHAIN_PROMPT,\n",
    ")\n",
    "\n",
    "memory = MemorySaver()"
   ]
  },
  {
   "cell_type": "code",
   "execution_count": 2,
   "metadata": {},
   "outputs": [],
   "source": [
    "class ComparisonVariables(BaseModel):\n",
    "    brand: str = Field(description=\"brand name of the product\", max_length=20)\n",
    "    industry: str = Field(description=\"industry of the product\")\n",
    "    year: int = Field(description=\"Year of the product information\", ge=2000)\n",
    "\n",
    "\n",
    "class ColorTrendVariables(BaseModel):\n",
    "    brand: str = Field(description=\"brand name of the product\", max_length=20)\n",
    "    start_year: int = Field(description=\"Starting year of the product information\")\n",
    "    end_year: int = Field(description=\"Ending year of the product information\")\n",
    "\n",
    "\n",
    "class PrechatVariables(BaseModel):\n",
    "    full_name: str = Field(description=\"Full name of the user\")\n",
    "    mobile_number: int = Field(\n",
    "        description=\"Mobile Number of the user must be of 10 digits.\",\n",
    "        # max_length=10,\n",
    "        # min_length=10,\n",
    "    )\n",
    "    email_id: str = Field(description=\"mail ID of the user\")\n",
    "\n",
    "\n",
    "class GetEventsSchema(BaseModel):\n",
    "    start_datetime: str = Field(\n",
    "        description=(\n",
    "            \"The start datetime for the event in the following format: \"\n",
    "            'YYYY-MM-DDTHH:MM:SS, where \"T\" separates the date and time.'\n",
    "        )\n",
    "    )\n",
    "    end_datetime: str = Field(\n",
    "        description=(\n",
    "            \"The end datetime for the event in the following format: \"\n",
    "            'YYYY-MM-DDTHH:MM:SS, where \"T\" separates the date and time.'\n",
    "        )\n",
    "    )\n",
    "    agenda: str\n",
    "    user_email: EmailStr\n",
    "\n",
    "    timezone: str = Field(\n",
    "        default=\"Asia/Kolkata\",\n",
    "    )"
   ]
  },
  {
   "cell_type": "code",
   "execution_count": 3,
   "metadata": {},
   "outputs": [],
   "source": [
    "credentials = get_gmail_credentials(\n",
    "    token_file=\"token.json\",\n",
    "    scopes=[\"https://www.googleapis.com/auth/calendar\"],\n",
    "    client_secrets_file=\"credentials.json\",\n",
    ")\n",
    "\n",
    "calendar_service = build_resource_service(\n",
    "    credentials=credentials, service_name=\"calendar\", service_version=\"v3\"\n",
    ")\n",
    "\n",
    "createeventtool = CreateGoogleCalendarEvent.from_api_resource(calendar_service)"
   ]
  },
  {
   "cell_type": "code",
   "execution_count": 4,
   "metadata": {},
   "outputs": [],
   "source": [
    "llm = ChatOpenAI(temperature=0)"
   ]
  },
  {
   "cell_type": "code",
   "execution_count": 5,
   "metadata": {},
   "outputs": [],
   "source": [
    "def create_agent(llm, tools: list, system_prompt):\n",
    "\n",
    "    agent = create_openai_tools_agent(llm, tools, system_prompt)\n",
    "    executor = AgentExecutor(agent=agent, tools=tools)\n",
    "\n",
    "    return executor"
   ]
  },
  {
   "cell_type": "code",
   "execution_count": 6,
   "metadata": {},
   "outputs": [],
   "source": [
    "comparison_parser = JsonOutputParser(pydantic_object=ComparisonVariables)"
   ]
  },
  {
   "cell_type": "code",
   "execution_count": 7,
   "metadata": {},
   "outputs": [],
   "source": [
    "comparison_prompt_template = ChatPromptTemplate.from_messages(\n",
    "    [\n",
    "        (\n",
    "            \"system\",\n",
    "            COMPARISON_PROMPT,\n",
    "        ),\n",
    "        MessagesPlaceholder(variable_name=\"messages\"),\n",
    "        MessagesPlaceholder(variable_name=\"agent_scratchpad\"),\n",
    "    ]\n",
    ").partial(format_instructions=comparison_parser.get_format_instructions())"
   ]
  },
  {
   "cell_type": "code",
   "execution_count": 8,
   "metadata": {},
   "outputs": [],
   "source": [
    "comparison = create_agent(\n",
    "    llm=llm, tools=[identity], system_prompt=comparison_prompt_template\n",
    ")"
   ]
  },
  {
   "cell_type": "code",
   "execution_count": 9,
   "metadata": {},
   "outputs": [],
   "source": [
    "coolortrend_parser = JsonOutputParser(pydantic_object=ColorTrendVariables)\n",
    "\n",
    "trend_prompt_template = ChatPromptTemplate.from_messages(\n",
    "    [\n",
    "        (\n",
    "            \"system\",\n",
    "            COLOR_TREND_PROMPT,\n",
    "        ),\n",
    "        MessagesPlaceholder(variable_name=\"messages\"),\n",
    "        MessagesPlaceholder(variable_name=\"agent_scratchpad\"),\n",
    "    ]\n",
    ").partial(format_instructions=coolortrend_parser.get_format_instructions())\n",
    "\n",
    "colortrend = create_agent(llm, [identity], trend_prompt_template)"
   ]
  },
  {
   "cell_type": "code",
   "execution_count": 10,
   "metadata": {},
   "outputs": [],
   "source": [
    "# colortrend.invoke(\n",
    "#     {\n",
    "#         \"messages\": [\n",
    "#             HumanMessage(\n",
    "#                 content=\"What color schemes has Audi used in their cars in the past five years?\",\n",
    "#             )\n",
    "#         ]\n",
    "#     }\n",
    "# )"
   ]
  },
  {
   "cell_type": "code",
   "execution_count": 11,
   "metadata": {},
   "outputs": [
    {
     "name": "stderr",
     "output_type": "stream",
     "text": [
      "C:\\Users\\LAP-028\\AppData\\Local\\Temp\\ipykernel_24560\\1329975316.py:35: LangChainDeprecationWarning: The method `BaseChatOpenAI.bind_functions` was deprecated in langchain-openai 0.2.1 and will be removed in 0.3.0. Use :meth:`~langchain_openai.chat_models.base.ChatOpenAI.bind_tools` instead.\n",
      "  | llm.bind_functions(\n"
     ]
    }
   ],
   "source": [
    "options = [\"prechat_agent\", \"greet_agent\", \"FINISH\"]\n",
    "\n",
    "function_def = {\n",
    "    \"name\": \"route\",\n",
    "    \"description\": \"Select the next role.\",\n",
    "    \"parameters\": {\n",
    "        \"title\": \"routeSchema\",\n",
    "        \"type\": \"object\",\n",
    "        \"properties\": {\n",
    "            \"next\": {\n",
    "                \"title\": \"Next\",\n",
    "                \"anyOf\": [\n",
    "                    {\"enum\": options},\n",
    "                ],\n",
    "            }\n",
    "        },\n",
    "        \"required\": [\"next\"],\n",
    "    },\n",
    "}\n",
    "\n",
    "prompt = ChatPromptTemplate.from_messages(\n",
    "    [\n",
    "        (\"system\", GREETING_CHAIN_PROMPT),\n",
    "        MessagesPlaceholder(variable_name=\"messages\"),\n",
    "        (\n",
    "            \"system\",\n",
    "            \"Given the conversation above , who should act next?\"\n",
    "            \"Or should we FINISH? Select one of : {options}\",\n",
    "        ),\n",
    "    ]\n",
    ").partial(options=str(options), members=\", \".join(options))\n",
    "\n",
    "greeting_chain = (\n",
    "    prompt\n",
    "    | llm.bind_functions(\n",
    "        functions=[function_def],\n",
    "        function_call=\"route\",\n",
    "    )\n",
    "    | JsonOutputFunctionsParser()\n",
    ")"
   ]
  },
  {
   "cell_type": "code",
   "execution_count": 12,
   "metadata": {},
   "outputs": [],
   "source": [
    "greet_prompt_template = ChatPromptTemplate.from_messages(\n",
    "    [\n",
    "        (\n",
    "            \"system\",\n",
    "            GREETING_PROMPT,\n",
    "        ),\n",
    "        MessagesPlaceholder(variable_name=\"agent_scratchpad\"),\n",
    "    ]\n",
    ")\n",
    "greet_agent = create_agent(llm, [identity], greet_prompt_template)"
   ]
  },
  {
   "cell_type": "code",
   "execution_count": 13,
   "metadata": {},
   "outputs": [],
   "source": [
    "prechat_parser = JsonOutputParser(pydantic_object=PrechatVariables)\n",
    "\n",
    "\n",
    "prechat_prompt_template = ChatPromptTemplate.from_messages(\n",
    "    [\n",
    "        (\n",
    "            \"system\",\n",
    "            PRECHAT_PROMPT,\n",
    "        ),\n",
    "        MessagesPlaceholder(variable_name=\"messages\"),\n",
    "        MessagesPlaceholder(variable_name=\"agent_scratchpad\"),\n",
    "    ]\n",
    ").partial(format_instructions=prechat_parser.get_format_instructions())\n",
    "\n",
    "prechat_agent = create_agent(llm, [validate_email, identity], prechat_prompt_template)"
   ]
  },
  {
   "cell_type": "code",
   "execution_count": 14,
   "metadata": {},
   "outputs": [],
   "source": [
    "# prechat_agent.invoke(\n",
    "#     {\n",
    "#         \"messages\": [\n",
    "#             HumanMessage(\n",
    "#                 content=\"Hello I am Sahil and this is my contact no: 1024585251 and mail ID is sahil@.com\",\n",
    "#             )\n",
    "#         ]\n",
    "#     }\n",
    "# )"
   ]
  },
  {
   "cell_type": "code",
   "execution_count": 15,
   "metadata": {},
   "outputs": [],
   "source": [
    "feedback_prompt_template = ChatPromptTemplate.from_messages(\n",
    "    [\n",
    "        (\n",
    "            \"system\",\n",
    "            FEEDBACK_PROMPT,\n",
    "        ),\n",
    "        MessagesPlaceholder(variable_name=\"messages\"),\n",
    "        MessagesPlaceholder(variable_name=\"agent_scratchpad\"),\n",
    "    ]\n",
    ")\n",
    "feedback_agent = create_agent(llm, [identity], feedback_prompt_template)"
   ]
  },
  {
   "cell_type": "code",
   "execution_count": 16,
   "metadata": {},
   "outputs": [],
   "source": [
    "# feedback_agent.invoke(\n",
    "#     {\n",
    "#         \"messages\": [\n",
    "#             HumanMessage(\n",
    "#                 content=\"I'm done with my questions\",\n",
    "#             )\n",
    "#         ]\n",
    "#     }\n",
    "# )"
   ]
  },
  {
   "cell_type": "code",
   "execution_count": 17,
   "metadata": {},
   "outputs": [],
   "source": [
    "scheduler_parser = JsonOutputParser(pydantic_object=GetEventsSchema)\n",
    "\n",
    "scheduler_prompt_template = ChatPromptTemplate.from_messages(\n",
    "    [\n",
    "        (\n",
    "            \"system\",\n",
    "            SCHEDULER_PROMPT,\n",
    "        ),\n",
    "        MessagesPlaceholder(variable_name=\"messages\"),\n",
    "        MessagesPlaceholder(variable_name=\"agent_scratchpad\"),\n",
    "    ],\n",
    ").partial(\n",
    "    format_instructions=scheduler_parser.get_format_instructions(),\n",
    ")\n",
    "\n",
    "scheduler_agent = create_agent(\n",
    "    llm=llm,\n",
    "    tools=[createeventtool, validate_email, identity],\n",
    "    system_prompt=scheduler_prompt_template,\n",
    ")"
   ]
  },
  {
   "cell_type": "code",
   "execution_count": 18,
   "metadata": {},
   "outputs": [],
   "source": [
    "# scheduler_agent.invoke(\n",
    "#     {\n",
    "#         \"messages\": [\n",
    "#             HumanMessage(\n",
    "#                 content=\"I want to setup a demo at the start time 10:00 am to end time 11:00 am on 28th august 2024 and my mail id samraval@gmail.com, agenda: Prodcut Demo\",\n",
    "#             )\n",
    "#         ]\n",
    "#     }\n",
    "# )"
   ]
  },
  {
   "cell_type": "code",
   "execution_count": 19,
   "metadata": {},
   "outputs": [],
   "source": [
    "fallback_prompt_template = ChatPromptTemplate.from_messages(\n",
    "[\n",
    "    (\n",
    "        \"system\",\n",
    "        FALLBACK_PROMPT,\n",
    "        \n",
    "    ),\n",
    "    # MessagesPlaceholder(variable_name=\"messages\"),\n",
    "    MessagesPlaceholder(variable_name=\"agent_scratchpad\"),\n",
    "],\n",
    ")\n",
    "\n",
    "fallback_agent = create_agent(\n",
    "    llm=llm,\n",
    "    tools=[identity],\n",
    "    system_prompt=fallback_prompt_template,\n",
    ")\n"
   ]
  },
  {
   "cell_type": "code",
   "execution_count": 20,
   "metadata": {},
   "outputs": [],
   "source": [
    "def agent_node(state, agent, name):\n",
    "    result = agent.invoke(state)\n",
    "    return {\"messages\": [HumanMessage(content=result[\"output\"], name=name)]}"
   ]
  },
  {
   "cell_type": "code",
   "execution_count": 33,
   "metadata": {},
   "outputs": [],
   "source": [
    "members = [\n",
    "    \"greeting_chain\",\n",
    "    \"prechat_agent\",\n",
    "    \"comparison\",\n",
    "    \"colortrend\",\n",
    "    \"scheduler_agent\",\n",
    "    \"fallback_agent\",\n",
    "    \"feedback_agent\",\n",
    "]\n",
    "\n",
    "\n",
    "options = members\n",
    "\n",
    "function_def = {\n",
    "    \"name\": \"route\",\n",
    "    \"description\": \"Select the next role.\",\n",
    "    \"parameters\": {\n",
    "        \"title\": \"routeSchema\",\n",
    "        \"type\": \"object\",\n",
    "        \"properties\": {\n",
    "            \"next\": {\n",
    "                \"title\": \"Next\",\n",
    "                \"anyOf\": [\n",
    "                    {\"enum\": options},\n",
    "                ],\n",
    "            }\n",
    "        },\n",
    "        \"required\": [\"next\"],\n",
    "    },\n",
    "}\n",
    "\n",
    "prompt = ChatPromptTemplate.from_messages(\n",
    "    [\n",
    "        (\"system\", SYSTEM_PROMPT),\n",
    "        MessagesPlaceholder(variable_name=\"messages\"),\n",
    "        (\n",
    "            \"system\",\n",
    "            \"Given the conversation above , who should act next?\"\n",
    "            \"Or should we FINISH? Select one of : {options}\",\n",
    "        ),\n",
    "    ]\n",
    ").partial(options=str(options), members=\", \".join(members))\n",
    "\n",
    "llm = ChatOpenAI(temperature=0)\n",
    "# llm = ChatGroq(model=\"llama3-70b-8192\")\n",
    "\n",
    "supervisor_chain = (\n",
    "    prompt\n",
    "    | llm.bind_functions(\n",
    "        functions=[function_def],\n",
    "        function_call=\"route\",\n",
    "    )\n",
    "    | JsonOutputFunctionsParser()\n",
    ")"
   ]
  },
  {
   "cell_type": "code",
   "execution_count": 34,
   "metadata": {},
   "outputs": [],
   "source": [
    "class AgentState(TypedDict):\n",
    "    messages: Annotated[Sequence[BaseMessage], operator.add]\n",
    "\n",
    "    next: str\n"
   ]
  },
  {
   "cell_type": "code",
   "execution_count": 35,
   "metadata": {},
   "outputs": [],
   "source": [
    "comparison_node = functools.partial(agent_node, agent=comparison, name=\"comparison\")\n",
    "\n",
    "colortrend_node = functools.partial(agent_node, agent=colortrend, name=\"colortrend\")\n",
    "\n",
    "greet_node = functools.partial(agent_node, agent=greet_agent, name=\"greet_agent\")\n",
    "\n",
    "prechat_node = functools.partial(agent_node, agent=prechat_agent, name=\"prechat_agent\")\n",
    "\n",
    "feedback_node = functools.partial(\n",
    "    agent_node, agent=feedback_agent, name=\"feedback_agent\"\n",
    ")\n",
    "\n",
    "scheduler_node = functools.partial(\n",
    "    agent_node, agent=scheduler_agent, name=\"scheduler_agent\"\n",
    ")\n",
    "\n",
    "fallback_node = functools.partial(\n",
    "    agent_node,agent = fallback_agent, name = \"fallback_agent\"\n",
    ")"
   ]
  },
  {
   "cell_type": "code",
   "execution_count": 36,
   "metadata": {},
   "outputs": [],
   "source": [
    "workflow = StateGraph(AgentState)\n",
    "workflow.add_node(\"comparison\", comparison_node)\n",
    "workflow.add_node(\"colortrend\", colortrend_node)\n",
    "workflow.add_node(\"greeting_chain\", greeting_chain)\n",
    "workflow.add_node(\"greet_agent\", greet_node)\n",
    "workflow.add_node(\"supervisor\", supervisor_chain)\n",
    "workflow.add_node(\"prechat_agent\", prechat_node)\n",
    "workflow.add_node(\"feedback_agent\", feedback_node)\n",
    "workflow.add_node(\"scheduler_agent\", scheduler_node)\n",
    "workflow.add_node(\"fallback_agent\", fallback_node)\n",
    "\n",
    "for member in members:\n",
    "    if member == \"greeting_chain\":\n",
    "        continue\n",
    "    workflow.add_edge(member, END)\n",
    "\n",
    "workflow.add_edge(\"greet_agent\", END)\n",
    "workflow.add_edge(\"greet_agent\", \"greeting_chain\")\n",
    "\n",
    "conditional_map = {k: k for k in members}\n",
    "\n",
    "# workflow.add_edge(\"greet_agent\", \"prechat_agent\")\n",
    "# workflow.add_edge(\"prechat_agent\", \"supervisor\")\n",
    "\n",
    "\n",
    "conditional_map = {k: k for k in members}\n",
    "# conditional_map[\"FINISH\"] = END\n",
    "# new_map = {k: k for k in [\"prechat_agent\"]}\n",
    "# workflow.add_conditional_edges(\"greet_agent\",lambda x: x[\"next\"],new_map)\n",
    "# conditional_map[\"greet_agent\"] = \"prechat_agent\"\n",
    "# workflow.add_conditional_edges(\"supervisor\", lambda x: \"FINISH\" if any(\"FINISH\" in msg.content or \"finish\" in msg.content for msg in x[\"messages\"]) else x[\"next\"], conditional_map)\n",
    "\n",
    "workflow.add_conditional_edges(\n",
    "    \"greeting_chain\",\n",
    "    lambda x: x[\"next\"],\n",
    "    {\"prechat_agent\": \"prechat_agent\", \"greet_agent\": \"greet_agent\", \"FINISH\": END},\n",
    ")\n",
    "workflow.add_conditional_edges(\"supervisor\", lambda x: x[\"next\"], conditional_map)\n",
    "\n",
    "\n",
    "# workflow.add_edge(\"supervisor\", \"greeting_chain\")\n",
    "workflow.add_edge(START, \"supervisor\")\n",
    "\n",
    "graph = workflow.compile(checkpointer=memory)\n",
    "# print(conditional_map)"
   ]
  },
  {
   "cell_type": "code",
   "execution_count": 37,
   "metadata": {},
   "outputs": [
    {
     "data": {
      "image/jpeg": "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",
      "text/plain": [
       "<IPython.core.display.Image object>"
      ]
     },
     "metadata": {},
     "output_type": "display_data"
    }
   ],
   "source": [
    "try:\n",
    "    display(Image(graph.get_graph().draw_mermaid_png()))\n",
    "except Exception:\n",
    "    pass"
   ]
  },
  {
   "cell_type": "code",
<<<<<<< HEAD
   "execution_count": 26,
=======
<<<<<<< HEAD
   "execution_count": 38,
=======
   "execution_count": 28,
>>>>>>> 3cb60088f2ae99f03fee50a82885a18e3eb8d7fa
>>>>>>> f6869c5b833efa26ed7e66ab41c61e53240eea43
   "metadata": {},
   "outputs": [],
   "source": [
    "config = {\"configurable\": {\"thread_id\": \"1\"}}"
   ]
  },
  {
   "cell_type": "code",
<<<<<<< HEAD
   "execution_count": 27,
=======
<<<<<<< HEAD
   "execution_count": 39,
=======
   "execution_count": 29,
>>>>>>> 3cb60088f2ae99f03fee50a82885a18e3eb8d7fa
>>>>>>> f6869c5b833efa26ed7e66ab41c61e53240eea43
   "metadata": {},
   "outputs": [
    {
     "name": "stdout",
     "output_type": "stream",
     "text": [
<<<<<<< HEAD
      "Input:  hello\n",
      "AI:  {'supervisor': {'next': 'greeting_chain'}}\n",
      "----\n",
      "Input:  hello\n",
      "AI:  {'greeting_chain': {'next': 'greet_agent'}}\n",
      "----\n",
      "Input:  hello\n",
      "AI:  {'greet_agent': {'messages': [HumanMessage(content=\"Hello! Welcome! I'm here to help you with any questions you have about color trends, brand comparisons, and more. Just let me know what you're looking for, and I'll guide you to the right place.\", additional_kwargs={}, response_metadata={}, name='greet_agent')]}}\n",
      "----\n",
      "Input:  hello\n",
      "AI:  {'greeting_chain': {'next': 'prechat_agent'}}\n",
      "----\n",
      "Input:  hello\n",
      "AI:  {'prechat_agent': {'messages': [HumanMessage(content='I need to collect some basic information from you before we proceed. Could you please provide me with your full name, mobile number, and email id?', additional_kwargs={}, response_metadata={}, name='prechat_agent')]}}\n",
      "----\n",
      "Input:  i am rohan banda and mail id is rohnbanda103@gmail.com\n",
      "AI:  {'supervisor': {'next': 'prechat_agent'}}\n",
      "----\n",
      "Input:  i am rohan banda and mail id is rohnbanda103@gmail.com\n",
      "AI:  {'prechat_agent': {'messages': [HumanMessage(content='Thank you for providing your information, Rohan Banda. \\nYour details are as follows:\\n- Full Name: Rohan Banda\\n- Email Id: rohnbanda103@gmail.com\\n\\nIs there anything else I can assist you with?', additional_kwargs={}, response_metadata={}, name='prechat_agent')]}}\n",
      "----\n",
      "Input:  can you list my upcoming events\n",
=======
<<<<<<< HEAD
=======
      "Input:  i want a demo\n",
>>>>>>> f6869c5b833efa26ed7e66ab41c61e53240eea43
      "AI:  {'supervisor': {'next': 'scheduler_agent'}}\n",
      "----\n",
      "Input:  can you list my upcoming events\n",
      "AI:  {'scheduler_agent': {'messages': [HumanMessage(content='To assist you with listing your upcoming events, could you please provide me with the start and end date/time, your email ID, and the agenda for the event?', additional_kwargs={}, response_metadata={}, name='scheduler_agent')]}}\n",
      "----\n",
      "Input:  no i don't want tot schedule\n",
      "AI:  {'supervisor': {'next': 'greeting_chain'}}\n",
      "----\n",
      "Input:  no i don't want tot schedule\n",
      "AI:  {'greeting_chain': {'next': 'greet_agent'}}\n",
      "----\n",
      "Input:  no i don't want tot schedule\n",
      "AI:  {'greet_agent': {'messages': [HumanMessage(content=\"Hello! Welcome! I'm here to help you with any questions you have about color trends, brand comparisons, and more. Just let me know what you're looking for, and I'll guide you to the right place.\", additional_kwargs={}, response_metadata={}, name='greet_agent')]}}\n",
      "----\n",
      "Input:  no i don't want tot schedule\n",
      "AI:  {'greeting_chain': {'next': 'prechat_agent'}}\n",
      "----\n",
      "Input:  no i don't want tot schedule\n",
      "AI:  {'prechat_agent': {'messages': [HumanMessage(content='Thank you for providing your email id. Could you please also provide me with your full name and mobile number?', additional_kwargs={}, response_metadata={}, name='prechat_agent')]}}\n",
      "----\n",
>>>>>>> 3cb60088f2ae99f03fee50a82885a18e3eb8d7fa
      "Goodbye!\n"
     ]
    }
   ],
   "source": [
    "while True:\n",
    "    user_input = input(\"User: \")\n",
    "    if user_input.lower() in [\"quit\", \"exit\", \"q\"]:\n",
    "        print(\"Goodbye!\")\n",
    "        break\n",
    "    for s in graph.stream(\n",
    "        {\"messages\": [HumanMessage(content=user_input)]},\n",
    "        config,\n",
    "    ):\n",
    "        # if \"__end__\" not in s:\n",
    "        print(\"Input: \", user_input)\n",
    "        print(\"AI: \", s)\n",
<<<<<<< HEAD
    "        print(\"----\")"
   ]
  },
  {
   "cell_type": "code",
   "execution_count": 28,
   "metadata": {},
   "outputs": [],
   "source": [
    "# memory.storage['2']"
=======
    "        print(\"----\")\n",
    "\n",
    "# while True:\n",
    "#     user_input = input(\"User: \")\n",
    "#     if user_input.lower() in [\"quit\", \"exit\", \"q\"]:\n",
    "#         print(\"Goodbye!\")\n",
    "#         break\n",
    "#     for s in graph.stream(\n",
    "#         {\"messages\": [HumanMessage(content=user_input)]},\n",
    "#         config,\n",
    "#     ):\n",
    "#         # print(\"Raw Response: \", s)  # Print the raw response for debugging\n",
    "        \n",
    "#         # Check if 'supervisor' is in the response\n",
    "#         if 'supervisor' in s:\n",
    "#             # print(\"Supervisor detected, skipping...\")\n",
    "#             continue\n",
    "        \n",
    "#         # Try to access content and print it\n",
    "#         for key, value in s.items():\n",
    "#             if isinstance(value, dict) and 'messages' in value:\n",
    "#                 # print(f\"value: {value}\")\n",
    "#                 for message in value['messages']:\n",
    "#                     found_content = False\n",
    "\n",
    "#                     print(\"Input: \", user_input)\n",
    "#                     print(f\"msg: {message.content}\")\n",
    "#                     # if 'content' in message:\n",
    "#                     #     print(\"AI: \", message)\n",
    "        \n",
    "#         print(\"----\")\n",
    "\n"
>>>>>>> 3cb60088f2ae99f03fee50a82885a18e3eb8d7fa
   ]
  },
  {
   "cell_type": "code",
   "execution_count": 25,
   "metadata": {},
   "outputs": [
    {
     "name": "stderr",
     "output_type": "stream",
     "text": [
      "<>:1: SyntaxWarning: invalid escape sequence '\\C'\n",
      "<>:1: SyntaxWarning: invalid escape sequence '\\C'\n",
      "C:\\Users\\rohan\\AppData\\Local\\Temp\\ipykernel_13180\\1659748460.py:1: SyntaxWarning: invalid escape sequence '\\C'\n",
      "  source = \"D:\\Coding\\TRT\\FineTuning\\data\\\\1876_Re_IJSS_deviation_data_problem__Valerie_Barreau.html\"\n"
     ]
    },
    {
     "data": {
      "text/plain": [
       "'1876'"
      ]
     },
     "execution_count": 25,
     "metadata": {},
     "output_type": "execute_result"
    }
   ],
   "source": [
    "source = \"D:\\Coding\\TRT\\FineTuning\\data\\1876_Re_IJSS_deviation_data_problem__Valerie_Barreau.html\"\n",
    "\n",
    "\n",
    "\n",
    "s = source.split(\"\\\\\")\n",
    "g = s[5]\n",
    "# f = g.split(\"\\\\\")\n",
    "g[:4]\n",
    "# print(s)"
   ]
  },
  {
   "cell_type": "code",
   "execution_count": null,
   "metadata": {},
   "outputs": [],
   "source": []
  }
 ],
 "metadata": {
  "kernelspec": {
   "display_name": ".venv",
   "language": "python",
   "name": "python3"
  },
  "language_info": {
   "codemirror_mode": {
    "name": "ipython",
    "version": 3
   },
   "file_extension": ".py",
   "mimetype": "text/x-python",
   "name": "python",
   "nbconvert_exporter": "python",
   "pygments_lexer": "ipython3",
<<<<<<< HEAD
   "version": "3.12.6"
=======
   "version": "3.11.5"
>>>>>>> f6869c5b833efa26ed7e66ab41c61e53240eea43
  }
 },
 "nbformat": 4,
 "nbformat_minor": 2
}
